{
 "cells": [
  {
   "cell_type": "code",
   "execution_count": 1,
   "id": "67804b34-7424-4b37-8ed9-1030fde6c342",
   "metadata": {},
   "outputs": [
    {
     "name": "stdout",
     "output_type": "stream",
     "text": [
      "AI learns patterns from data to make predictions or decisions.\n",
      "\n"
     ]
    }
   ],
   "source": [
    "from google import genai\n",
    "import json\n",
    "\n",
    "with open(\"gemini_key.json\") as f:\n",
    "    config = json.loads(f.read())\n",
    "\n",
    "GEMINI_API_KEY = config.get(\"GEMINI_API_KEY\")\n",
    "\n",
    "client = genai.Client(api_key=f\"{GEMINI_API_KEY}\")\n",
    "\n",
    "# response = client.models.generate_content(\n",
    "#     model=\"gemini-2.0-flash\", contents=\"Explain how AI works in a few words\"\n",
    "# )\n",
    "# print(response.text)"
   ]
  },
  {
   "cell_type": "code",
   "execution_count": 3,
   "id": "87b9478c-0fb1-4a02-a31b-12811db8df1c",
   "metadata": {},
   "outputs": [],
   "source": [
    "# get some spam topics\n",
    "response = client.models.generate_content(\n",
    "    model=\"gemini-2.0-flash\", contents= \"give me some topics of spam emails.  return only a json list of the topics \")"
   ]
  },
  {
   "cell_type": "code",
   "execution_count": 6,
   "id": "fe5bba95-6274-42c2-97a6-01bdcf9df071",
   "metadata": {
    "scrolled": true
   },
   "outputs": [
    {
     "name": "stdout",
     "output_type": "stream",
     "text": [
      "```json\n",
      "[\n",
      "  \"Urgent financial matters\",\n",
      "  \"Phishing scams (e.g., bank account verification)\",\n",
      "  \"Fake prize notifications or sweepstakes\",\n",
      "  \"Malware distribution\",\n",
      "  \"Ponzi schemes and pyramid scams\",\n",
      "  \"Pharmaceutical advertisements (often for unapproved drugs)\",\n",
      "  \"Dating and romance scams\",\n",
      "  \"Job offer scams\",\n",
      "  \"Investment opportunities (often high-risk or fraudulent)\",\n",
      "  \"Charity scams\",\n",
      "  \"Technical support scams\",\n",
      "  \"Debt relief or credit repair scams\",\n",
      "  \"Gift card scams\",\n",
      "  \"Subscription traps (e.g., free trial that automatically converts to a paid subscription)\",\n",
      "  \"Clickbait and sensationalist news\",\n",
      "  \"Political spam\",\n",
      "  \"Cryptocurrency scams\",\n",
      "  \"Travel deals (often fake or misleading)\",\n",
      "  \"Real estate scams\",\n",
      "  \"Surveys that collect personal information\"\n",
      "]\n",
      "```\n",
      "\n"
     ]
    }
   ],
   "source": [
    "print(response.text)"
   ]
  },
  {
   "cell_type": "code",
   "execution_count": 7,
   "id": "9d218408-d468-4b57-9bc1-844342dc0e95",
   "metadata": {},
   "outputs": [],
   "source": [
    "## pregenerated\n",
    "spam_topics = [\n",
    "  \"Urgent Account Security Alert\",\n",
    "  \"You've Won a Prize!\",\n",
    "  \"Claim Your Free Gift Card\",\n",
    "  \"Suspicious Activity Detected on Your Account\",\n",
    "  \"Verify Your Information Immediately\",\n",
    "  \"Package Delivery Notification\",\n",
    "  \"Missed Delivery Attempt\",\n",
    "  \"Invoice Attached\",\n",
    "  \"Payment Reminder\",\n",
    "  \"Your Subscription is About to Expire\",\n",
    "  \"Limited-Time Offer!\",\n",
    "  \"Exclusive Discount Inside\",\n",
    "  \"Make Money Online Fast!\",\n",
    "  \"Work From Home Opportunity\",\n",
    "  \"Investment Opportunity\",\n",
    "  \"Get Rich Quick Scheme\",\n",
    "  \"Loan Approval\",\n",
    "  \"Debt Relief Program\",\n",
    "  \"Lower Your Interest Rates\",\n",
    "  \"Health and Wellness Secrets\",\n",
    "  \"Weight Loss Breakthrough\",\n",
    "  \"Enhance Your Performance\",\n",
    "  \"Meet Singles in Your Area\",\n",
    "  \"Romantic Interest\",\n",
    "  \"Important Legal Notice\",\n",
    "  \"Tax Refund Notification\",\n",
    "  \"Government Grant Available\",\n",
    "  \"Charity Donation Request\",\n",
    "  \"Password Reset Request\",\n",
    "  \"Unusual Login Attempt\"\n",
    "]"
   ]
  },
  {
   "cell_type": "code",
   "execution_count": 32,
   "id": "7a05409f-afe2-4c3b-af93-b46a1cc2c097",
   "metadata": {
    "scrolled": true
   },
   "outputs": [
    {
     "name": "stdout",
     "output_type": "stream",
     "text": [
      "Urgent Account Security Alert\n",
      "You've Won a Prize!\n",
      "Claim Your Free Gift Card\n",
      "Suspicious Activity Detected on Your Account\n",
      "Verify Your Information Immediately\n",
      "Package Delivery Notification\n",
      "Missed Delivery Attempt\n",
      "Invoice Attached\n",
      "Payment Reminder\n",
      "Your Subscription is About to Expire\n",
      "Limited-Time Offer!\n",
      "Exclusive Discount Inside\n",
      "Make Money Online Fast!\n",
      "Work From Home Opportunity\n",
      "Investment Opportunity\n",
      "Get Rich Quick Scheme\n",
      "Loan Approval\n",
      "Debt Relief Program\n",
      "Lower Your Interest Rates\n",
      "Health and Wellness Secrets\n",
      "Weight Loss Breakthrough\n",
      "Enhance Your Performance\n",
      "Meet Singles in Your Area\n",
      "Romantic Interest\n",
      "Important Legal Notice\n",
      "Tax Refund Notification\n",
      "Government Grant Available\n",
      "Charity Donation Request\n",
      "Password Reset Request\n",
      "Unusual Login Attempt\n"
     ]
    }
   ],
   "source": [
    "spam = []\n",
    "\n",
    "for topic in spam_topics:\n",
    "    print(topic)\n",
    "\n",
    "    response = client.models.generate_content(\n",
    "        model=\"gemini-2.0-flash\", \n",
    "        contents= f\"\"\"write three spam emails on the topic of {topic}.  \n",
    "                        make up fake details like Customer Name, email, link.  \n",
    "                        don't use things like [Customer Name], [Suspicious Link] - make up fake companies, names, links\n",
    "                        \n",
    "                        return only a json list with the three emails with the schema\n",
    "        {[{\"topic\":str, \"subject\":str, \"body\":str}]} \n",
    "        do not return the word json or anything that cannot be parsed as json\"\"\")\n",
    "    spam.append([response.text])\n",
    "    "
   ]
  },
  {
   "cell_type": "code",
   "execution_count": 49,
   "id": "d6e0b43b-5a37-4950-9e56-8ba538e375ec",
   "metadata": {},
   "outputs": [
    {
     "data": {
      "text/plain": [
       "[{'topic': 'Limited-Time Offer!',\n",
       "  'subject': '⚡ Flash Sale: Get 75% OFF on All Glarble Gadgets! ⚡',\n",
       "  'body': \"Dear Beatrice Humphrey,\\n\\nDon't miss out on Glarble Gadgets' biggest sale of the year! For the next 24 hours only, enjoy a massive 75% discount on EVERYTHING in our store.\\n\\nUpgrade your tech, find the perfect gift, or treat yourself – all at prices you won't believe.\\n\\nHurry, this offer vanishes quicker than a greased piglet!\\n\\nShop Now: glarblegadgets.totallylegiturl.biz/sale\\n\\nSincerely,\\nThe Glarble Gadgets Team\"},\n",
       " {'topic': 'Limited-Time Offer!',\n",
       "  'subject': 'Urgent: Your Exclusive Discount on Piffle Widgets Expires TONIGHT!',\n",
       "  'body': \"Hello Reginald Bottomtooth,\\n\\nYou're receiving this email because you're a valued member of the Piffle Widget family! As a thank you, we're offering you a special discount of 60% on our entire range of Piffle Widgets.\\n\\nBut hurry! This offer is valid only until midnight tonight. Don't miss your chance to snag the piffliest widgets at prices that are simply too good to pass up!\\n\\nClaim Your Discount Now: pifflewidgets.getrichquickurl.com/discount\\n\\nBest Regards,\\nThe Piffle Widget Team\"},\n",
       " {'topic': 'Limited-Time Offer!',\n",
       "  'subject': 'Last Chance! 50% Off All Flumph Fancies Ends Today!',\n",
       "  'body': \"Dearest Mildred Periwinkle,\\n\\nThis is your last chance to take advantage of our incredible 50% off sale on all Flumph Fancies! These delightfully whimsical creations are flying off the shelves (figuratively speaking, of course; flumphs don't have shelves).\\n\\nWhether you're looking for a Flumph Flutterby or a Flumph Frolic, now's the time to get it at half the price!\\n\\nOffer ends at 11:59 PM EST. Don't delay!\\n\\nShop Now: flumphfancies.dontclickthisurl.site/50off\\n\\nWarmly,\\nThe Flumph Fancy Folks\"}]"
      ]
     },
     "execution_count": 49,
     "metadata": {},
     "output_type": "execute_result"
    }
   ],
   "source": [
    "json.loads((spam[10][0])[7:-3])"
   ]
  },
  {
   "cell_type": "code",
   "execution_count": 50,
   "id": "7f9d13cd-00fb-4f1d-b79c-cd41e1133804",
   "metadata": {},
   "outputs": [],
   "source": [
    "spam_munged = [json.loads((s[0])[7:-3]) for s in spam]"
   ]
  },
  {
   "cell_type": "code",
   "execution_count": 52,
   "id": "30ebf2f7-bd42-4cf3-945a-f1c426518fb2",
   "metadata": {
    "scrolled": true
   },
   "outputs": [],
   "source": [
    "spam_emails = []\n",
    "\n",
    "for l in spam_munged:\n",
    "    spam_emails.extend(l)"
   ]
  },
  {
   "cell_type": "code",
   "execution_count": 54,
   "id": "3163864a-cb1b-4c06-8d28-690672383cce",
   "metadata": {
    "scrolled": true
   },
   "outputs": [
    {
     "data": {
      "text/plain": [
       "90"
      ]
     },
     "execution_count": 54,
     "metadata": {},
     "output_type": "execute_result"
    }
   ],
   "source": [
    "len(spam_emails)"
   ]
  },
  {
   "cell_type": "code",
   "execution_count": 55,
   "id": "13b29f46-29a4-4dac-b507-b0785efc24c4",
   "metadata": {},
   "outputs": [],
   "source": [
    "with open('generated_spam.json', 'w+') as f:\n",
    "    f.write(json.dumps(spam_emails))"
   ]
  },
  {
   "cell_type": "code",
   "execution_count": null,
   "id": "12f39fd5-a8b1-484c-a71f-dd8871e01d31",
   "metadata": {},
   "outputs": [],
   "source": []
  }
 ],
 "metadata": {
  "kernelspec": {
   "display_name": "venv_day2",
   "language": "python",
   "name": "venv_day2"
  },
  "language_info": {
   "codemirror_mode": {
    "name": "ipython",
    "version": 3
   },
   "file_extension": ".py",
   "mimetype": "text/x-python",
   "name": "python",
   "nbconvert_exporter": "python",
   "pygments_lexer": "ipython3",
   "version": "3.10.14"
  }
 },
 "nbformat": 4,
 "nbformat_minor": 5
}
