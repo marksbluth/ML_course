{
 "cells": [
  {
   "cell_type": "code",
   "execution_count": null,
   "id": "37cb4062-f0a8-4b9d-9605-e617e7862c25",
   "metadata": {},
   "outputs": [],
   "source": []
  }
 ],
 "metadata": {
  "kernelspec": {
   "display_name": "venv_day2",
   "language": "python",
   "name": "venv_day2"
  },
  "language_info": {
   "codemirror_mode": {
    "name": "ipython",
    "version": 3
   },
   "file_extension": ".py",
   "mimetype": "text/x-python",
   "name": "python",
   "nbconvert_exporter": "python",
   "pygments_lexer": "ipython3",
   "version": "3.10.14"
  }
 },
 "nbformat": 4,
 "nbformat_minor": 5
}
