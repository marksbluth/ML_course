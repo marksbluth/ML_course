{
 "cells": [
  {
   "cell_type": "code",
   "execution_count": 23,
   "id": "74d57a85-2852-4bae-a166-bb34f20b97a6",
   "metadata": {},
   "outputs": [],
   "source": [
    "import pandas as pd\n",
    "import os\n"
   ]
  },
  {
   "cell_type": "code",
   "execution_count": 42,
   "id": "9911a981-8ea5-4083-931c-48394cf6919b",
   "metadata": {},
   "outputs": [
    {
     "name": "stderr",
     "output_type": "stream",
     "text": [
      "/var/folders/vt/4l69jtfd3m5blk3vs5plrg_40000gp/T/ipykernel_90415/1072533817.py:7: FutureWarning: The behavior of DataFrame concatenation with empty or all-NA entries is deprecated. In a future version, this will no longer exclude empty or all-NA columns when determining the result dtypes. To retain the old behavior, exclude the relevant entries before the concat operation.\n",
      "  df_normal = pd.concat(dfs)\n",
      "/var/folders/vt/4l69jtfd3m5blk3vs5plrg_40000gp/T/ipykernel_90415/1072533817.py:19: FutureWarning: The behavior of DataFrame concatenation with empty or all-NA entries is deprecated. In a future version, this will no longer exclude empty or all-NA columns when determining the result dtypes. To retain the old behavior, exclude the relevant entries before the concat operation.\n",
      "  df_all = pd.concat([df_normal, df_tunneling]).copy()\n"
     ]
    }
   ],
   "source": [
    "dfs = [pd.read_parquet(f\"./DNS-Tunnel-Datasets/normal/normal/{f}\") for f in \n",
    "              os.listdir('./DNS-Tunnel-Datasets/normal/normal/') if f.endswith('.pq')]\n",
    "\n",
    "cols_unwanted = ['payload.ack', 'payload.dataofs', 'payload.flags', 'payload.reserved', 'payload.seq', 'payload.urgptr', 'payload.window']\n",
    "dfs = [df[[c for c in df.columns if c not in cols_unwanted]] for df in dfs]\n",
    "\n",
    "df_normal = pd.concat(dfs)\n",
    "\n",
    "dfs = [pd.read_parquet(f\"./DNS-Tunnel-Datasets/tunnel/{f}\") for f in \n",
    "              os.listdir('./DNS-Tunnel-Datasets/tunnel/') if f.endswith('.pq')]\n",
    "\n",
    "cols_unwanted = ['payload.ack', 'payload.dataofs', 'payload.flags', 'payload.reserved', 'payload.seq', 'payload.urgptr', 'payload.window']\n",
    "dfs = [df[[c for c in df.columns if c not in cols_unwanted]] for df in dfs]\n",
    "\n",
    "df_tunneling = pd.concat(dfs)\n",
    "df_normal['label'] = 0\n",
    "df_tunneling['label'] = 1\n",
    "\n",
    "df_all = pd.concat([df_normal, df_tunneling]).copy()\n"
   ]
  },
  {
   "cell_type": "code",
   "execution_count": 43,
   "id": "2c053b5b-1f1e-4016-8c67-ee2abec77785",
   "metadata": {
    "scrolled": true
   },
   "outputs": [
    {
     "data": {
      "text/plain": [
       "version                      int64\n",
       "ihl                        float64\n",
       "tos                        float64\n",
       "len                        float64\n",
       "id                         float64\n",
       "flags                      float64\n",
       "frag                       float64\n",
       "ttl                        float64\n",
       "proto                      float64\n",
       "chksum                     float64\n",
       "src                         object\n",
       "dst                         object\n",
       "payload.sport                int64\n",
       "payload.dport                int64\n",
       "payload.len                float64\n",
       "payload.chksum               int64\n",
       "payload.payload.length     float64\n",
       "payload.payload.id           int64\n",
       "payload.payload.qr           int64\n",
       "payload.payload.opcode       int64\n",
       "payload.payload.aa           int64\n",
       "payload.payload.tc           int64\n",
       "payload.payload.rd           int64\n",
       "payload.payload.ra           int64\n",
       "payload.payload.z            int64\n",
       "payload.payload.ad           int64\n",
       "payload.payload.cd           int64\n",
       "payload.payload.rcode        int64\n",
       "payload.payload.qdcount      int64\n",
       "payload.payload.ancount      int64\n",
       "payload.payload.nscount      int64\n",
       "payload.payload.arcount      int64\n",
       "qname                       object\n",
       "qtype                        int64\n",
       "unicastresponse              int64\n",
       "qclass                       int64\n",
       "tc                         float64\n",
       "fl                         float64\n",
       "plen                       float64\n",
       "nh                         float64\n",
       "hlim                       float64\n",
       "payload.payload.ns          object\n",
       "label                        int64\n",
       "payload.payload.ar          object\n",
       "dtype: object"
      ]
     },
     "execution_count": 43,
     "metadata": {},
     "output_type": "execute_result"
    }
   ],
   "source": [
    "df_all.dtypes"
   ]
  },
  {
   "cell_type": "code",
   "execution_count": 44,
   "id": "792ce0c2-f5a4-4574-bf06-1c74fa4e2dec",
   "metadata": {
    "scrolled": true
   },
   "outputs": [],
   "source": [
    "df_all.drop('src', axis=1, inplace=True)\n",
    "df_all.drop('dst', axis=1, inplace=True)\n",
    "\n",
    "df_all.drop('payload.payload.ns', axis=1, inplace=True)\n",
    "df_all.drop('payload.payload.ar', axis=1, inplace=True)\n",
    "          "
   ]
  },
  {
   "cell_type": "code",
   "execution_count": 45,
   "id": "56c1f1fc-249c-4ca0-9fc7-9bf08ae6d7ee",
   "metadata": {},
   "outputs": [],
   "source": [
    "df_all['qname_first_part'] = df_all['qname'].apply(lambda x:x.split('.')[0])\n",
    "df_all['qname_tld_part'] = df_all['qname'].apply(lambda x:x.split('.')[-2])"
   ]
  },
  {
   "cell_type": "code",
   "execution_count": 48,
   "id": "50d8ad2e-d933-451e-bf29-cc5895c1df4e",
   "metadata": {},
   "outputs": [],
   "source": [
    "# sort columns alphabetically\n",
    "df_all.sort_index(axis=1, inplace=True)"
   ]
  },
  {
   "cell_type": "code",
   "execution_count": 56,
   "id": "7c962198-6dc3-4c86-aab5-31f53152a80d",
   "metadata": {},
   "outputs": [
    {
     "name": "stdout",
     "output_type": "stream",
     "text": [
      "0 float64\n",
      "1 float64\n",
      "2 float64\n",
      "3 float64\n",
      "4 float64\n",
      "5 float64\n",
      "6 float64\n",
      "7 int64\n",
      "8 float64\n",
      "9 float64\n",
      "10 int64\n",
      "11 int64\n",
      "12 float64\n",
      "13 int64\n",
      "14 int64\n",
      "15 int64\n",
      "16 int64\n",
      "17 int64\n",
      "18 int64\n",
      "19 float64\n",
      "20 int64\n",
      "21 int64\n",
      "22 int64\n",
      "23 int64\n",
      "24 int64\n",
      "25 int64\n",
      "26 int64\n",
      "27 int64\n",
      "28 int64\n",
      "29 int64\n",
      "30 float64\n",
      "31 float64\n",
      "32 int64\n",
      "33 object\n",
      "34 object\n",
      "35 object\n",
      "36 int64\n",
      "37 float64\n",
      "38 float64\n",
      "39 float64\n",
      "40 int64\n",
      "41 int64\n"
     ]
    }
   ],
   "source": [
    "for i, v in enumerate(df_all.dtypes):\n",
    "    print(i, v)\n",
    "    "
   ]
  },
  {
   "cell_type": "code",
   "execution_count": null,
   "id": "242affc4-5967-431e-a19a-202a153184c6",
   "metadata": {
    "scrolled": true
   },
   "outputs": [],
   "source": [
    "from catboost import CatBoostClassifier, Pool\n",
    "from sklearn.model_selection import train_test_split\n",
    "from sklearn.metrics import accuracy_score\n",
    "\n",
    "\n",
    "\n",
    "from catboost import CatBoostClassifier, Pool\n",
    "from sklearn.model_selection import train_test_split\n",
    "from sklearn import metrics\n",
    "\n",
    "# 1. Prepare Your Data\n",
    "\n",
    "X = df_all[[c for c in df_all.columns if c!='label']]\n",
    "y = df_all['label']\n",
    "\n",
    "# Identify categorical features (CatBoost handles them directly)\n",
    "categorical_features_indices = [32, 33, 34, 35]\n",
    "\n",
    "# Split data into training and testing sets\n",
    "X_train, X_test, y_train, y_test = train_test_split(X, y, test_size=0.3, random_state=42, stratify=y)\n",
    "\n",
    "# 2. Create CatBoost Data Pool (Recommended for Efficiency)\n",
    "train_pool = Pool(\n",
    "    data=X_train,\n",
    "    label=y_train,\n",
    "    cat_features=categorical_features_indices\n",
    ")\n",
    "\n",
    "test_pool = Pool(\n",
    "    data=X_test,\n",
    "    label=y_test,\n",
    "    cat_features=categorical_features_indices\n",
    ")\n",
    "\n",
    "# 3. Initialize and Train the CatBoost Model\n",
    "# You can customize hyperparameters here\n",
    "model = CatBoostClassifier(\n",
    "    iterations=100,         # Number of boosting iterations (trees)\n",
    "    learning_rate=0.1,      # Step size shrinkage to prevent overfitting\n",
    "    depth=2,                # Depth of the trees\n",
    "    loss_function='Logloss', # For binary classification\n",
    "    eval_metric='Accuracy',  # Metric to monitor during training\n",
    "    random_seed=42,\n",
    "    verbose=0               # Set to 0 to suppress verbose output, 1 for progress\n",
    ")\n",
    "\n",
    "model.fit(train_pool, eval_set=test_pool, early_stopping_rounds=10)\n",
    "\n",
    "# 4. Make Predictions\n",
    "y_pred_proba = model.predict_proba(test_pool)\n",
    "y_pred = model.predict(test_pool)\n",
    "\n",
    "\n",
    "# 5. Evaluate the Model\n",
    "accuracy = metrics.accuracy_score(y_test, y_pred)\n",
    "print(f\"Accuracy on the test set: {accuracy:.4f}\")\n",
    "\n",
    "\n",
    "accuracy = metrics.f1_score(y_test, y_pred)\n",
    "print(f\"F1 score on the test set: {accuracy:.4f}\")\n",
    "\n",
    "# 6. (Optional) Get Feature Importances\n",
    "feature_importances = model.get_feature_importance()\n",
    "feature_names = X.columns\n",
    "for importance, name in sorted(zip(feature_importances, feature_names), reverse=True):\n",
    "    print(f\"Feature: {name}, Importance: {importance:.4f}\")\n"
   ]
  },
  {
   "cell_type": "code",
   "execution_count": null,
   "id": "5d9a2ffb-f8b7-41f4-851e-f94f7834e7f0",
   "metadata": {},
   "outputs": [],
   "source": []
  }
 ],
 "metadata": {
  "kernelspec": {
   "display_name": "venv_day1",
   "language": "python",
   "name": "venv_day1"
  },
  "language_info": {
   "codemirror_mode": {
    "name": "ipython",
    "version": 3
   },
   "file_extension": ".py",
   "mimetype": "text/x-python",
   "name": "python",
   "nbconvert_exporter": "python",
   "pygments_lexer": "ipython3",
   "version": "3.10.14"
  }
 },
 "nbformat": 4,
 "nbformat_minor": 5
}
