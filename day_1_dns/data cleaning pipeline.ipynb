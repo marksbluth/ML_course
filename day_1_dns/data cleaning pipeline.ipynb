{
 "cells": [
  {
   "cell_type": "code",
   "execution_count": 3,
   "id": "042040e5-f93d-4bcb-9546-8da53dbb0318",
   "metadata": {},
   "outputs": [],
   "source": [
    "from scapy.all import rdpcap\n",
    "import pandas as pd\n",
    "import datetime\n",
    "import ujson as json\n",
    "import os"
   ]
  },
  {
   "cell_type": "code",
   "execution_count": 36,
   "id": "2616ea3f-0189-48d8-8cec-ef0e038e449a",
   "metadata": {},
   "outputs": [],
   "source": [
    "def pcap_file_to_parquet(filename, pq_location):\n",
    "    packets = rdpcap(filename)\n",
    "\n",
    "    packets_dicts = []\n",
    "    for packet in packets:\n",
    "        packets_dicts.append(json.loads(packet.json()))\n",
    "\n",
    "\n",
    "    df_1 = pd.DataFrame(packets_dicts)[['payload']]\n",
    "\n",
    "    df_2 = pd.json_normalize(df_1['payload'])\n",
    "\n",
    "    df_3 = pd.concat([df_2, pd.json_normalize(df_2['payload.payload.qd'].apply(lambda x:x[0]))], axis=1)\n",
    "\n",
    "    df_4 = df_3.drop('payload.payload.qd', axis=1).drop('payload.payload.an', axis=1)\n",
    "\n",
    "    df_4.to_parquet(pq_location)"
   ]
  },
  {
   "cell_type": "markdown",
   "id": "183bfa81-bfdd-4897-9af2-24f1c03a4c03",
   "metadata": {},
   "source": [
    "# normal pcap to pq"
   ]
  },
  {
   "cell_type": "code",
   "execution_count": 37,
   "id": "9f579e81-5b55-4a9f-a9c5-ce891b521a38",
   "metadata": {
    "scrolled": true
   },
   "outputs": [
    {
     "name": "stdout",
     "output_type": "stream",
     "text": [
      "normal_00031_20230806102617.pcap\n",
      "normal_00026_20230806094925.pcap\n",
      "normal_00037_20230806111651.pcap\n",
      "normal_00012_20230805204207.pcap\n",
      "normal_00051_20230806130724.pcap\n",
      "normal_00039_20230806113145.pcap\n",
      "normal_00007_20230805194417.pcap\n",
      "normal_00000_20230805150331.pcap\n",
      "normal_00033_20230806104653.pcap\n",
      "normal_00010_20230805201245.pcap\n",
      "normal_00029_20230806101125.pcap\n",
      "normal_00046_20230806122528.pcap\n",
      "normal_00023_20230805221350.pcap\n",
      "normal_00019_20230805214304.pcap\n",
      "normal_00004_20230805165638.pcap\n",
      "normal_00048_20230806124619.pcap\n",
      "normal_00018_20230805212730.pcap\n",
      "normal_00052_20230806131440.pcap\n",
      "normal_00032_20230806103352.pcap\n",
      "normal_00055_20230806134019.pcap\n",
      "normal_00060_20230806142107.pcap\n",
      "normal_00036_20230806110924.pcap\n",
      "normal_00011_20230805202204.pcap\n",
      "normal_00041_20230806114902.pcap\n",
      "normal_00014_20230805205702.pcap\n",
      "normal_00043_20230806120251.pcap\n",
      "normal_00059_20230806141220.pcap\n",
      "normal_00040_20230806114153.pcap\n",
      "normal_00028_20230806100400.pcap\n",
      "normal_00005_20230805173251.pcap\n",
      "normal_00006_20230805193455.pcap\n",
      "normal_00020_20230805215042.pcap\n",
      "normal_00064_20230806145733.pcap\n",
      "normal_00042_20230806115543.pcap\n",
      "normal_00038_20230806112421.pcap\n",
      "normal_00047_20230806123846.pcap\n",
      "normal_00061_20230806143445.pcap\n",
      "normal_00002_20230805155315.pcap\n",
      "normal_00025_20230805222942.pcap\n",
      "normal_00021_20230805215807.pcap\n",
      "normal_00058_20230806140330.pcap\n",
      "normal_00044_20230806121012.pcap\n",
      "normal_00016_20230805211220.pcap\n",
      "normal_00063_20230806144951.pcap\n",
      "normal_00062_20230806144212.pcap\n",
      "normal_00034_20230806105420.pcap\n",
      "normal_00003_20230805162300.pcap\n",
      "normal_00049_20230806125329.pcap\n",
      "normal_00056_20230806134743.pcap\n",
      "normal_00013_20230805204920.pcap\n",
      "normal_00024_20230805222144.pcap\n",
      "normal_00045_20230806121741.pcap\n",
      "normal_00053_20230806132202.pcap\n",
      "normal_00066_20230806151305.pcap\n",
      "normal_00017_20230805211952.pcap\n",
      "normal_00027_20230806095642.pcap\n",
      "normal_00001_20230805152732.pcap\n",
      "normal_00035_20230806110151.pcap\n",
      "normal_00065_20230806150519.pcap\n",
      "normal_00008_20230805195347.pcap\n",
      "normal_00022_20230805220555.pcap\n",
      "normal_00067_20230806152800.pcap\n",
      "normal_00057_20230806135504.pcap\n",
      "normal_00054_20230806133254.pcap\n",
      "normal_00009_20230805200318.pcap\n",
      "normal_00015_20230805210440.pcap\n",
      "normal_00050_20230806130025.pcap\n",
      "normal_00030_20230806101852.pcap\n"
     ]
    }
   ],
   "source": [
    "for f in [f for f in os.listdir('./DNS-Tunnel-Datasets/normal/normal/') if f.endswith('pcap')]:\n",
    "    print(f)\n",
    "    pcap_file_to_parquet(f\"./DNS-Tunnel-Datasets/normal/normal/{f}\", f\"./DNS-Tunnel-Datasets/normal/normal/{f[:-4]}pq\")"
   ]
  },
  {
   "cell_type": "markdown",
   "id": "5cb14203-b56f-4d68-99d9-cad2c12744d9",
   "metadata": {},
   "source": [
    "# tunnel pcap files to pq"
   ]
  },
  {
   "cell_type": "code",
   "execution_count": 38,
   "id": "786ac6cc-1024-4a0b-b8a4-16d5b55c65e5",
   "metadata": {
    "scrolled": true
   },
   "outputs": [
    {
     "name": "stdout",
     "output_type": "stream",
     "text": [
      "iodine-NULL.pcap\n",
      "dnscat2-txt.pcap\n",
      "iodine-txt.pcap\n",
      "iodine-a.pcap\n",
      "iodine-cname.pcap\n",
      "dnscat2-cname.pcap\n",
      "iodine-mx.pcap\n",
      "dnscat2-mx.pcap\n",
      "iodine-srv.pcap\n",
      "tuns.pcap\n",
      "dnspot.pcap\n",
      "iodine-private.pcap\n",
      "DNS-shell.pcap\n"
     ]
    }
   ],
   "source": [
    "for f in [f for f in os.listdir('./DNS-Tunnel-Datasets/tunnel/') if f.endswith('pcap')]:\n",
    "    print(f)\n",
    "    pcap_file_to_parquet(f\"./DNS-Tunnel-Datasets/tunnel/{f}\", f\"./DNS-Tunnel-Datasets/tunnel/{f[:-4]}pq\")"
   ]
  },
  {
   "cell_type": "code",
   "execution_count": null,
   "id": "43da7242-eb33-4ab0-99aa-50103422a762",
   "metadata": {},
   "outputs": [],
   "source": []
  }
 ],
 "metadata": {
  "kernelspec": {
   "display_name": "Python 3 (ipykernel)",
   "language": "python",
   "name": "python3"
  },
  "language_info": {
   "codemirror_mode": {
    "name": "ipython",
    "version": 3
   },
   "file_extension": ".py",
   "mimetype": "text/x-python",
   "name": "python",
   "nbconvert_exporter": "python",
   "pygments_lexer": "ipython3",
   "version": "3.10.14"
  }
 },
 "nbformat": 4,
 "nbformat_minor": 5
}
