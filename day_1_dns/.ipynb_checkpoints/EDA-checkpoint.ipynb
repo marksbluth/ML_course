{
 "cells": [
  {
   "cell_type": "code",
   "execution_count": 1,
   "id": "bec89c4b-6054-43c7-a5c7-3a4df9eda430",
   "metadata": {},
   "outputs": [],
   "source": [
    "import pandas as pd\n",
    "import datetime\n",
    "import os\n"
   ]
  },
  {
   "cell_type": "markdown",
   "id": "943a54dc-d48b-4acc-94ad-b41005acbff8",
   "metadata": {},
   "source": [
    "# load normal data"
   ]
  },
  {
   "cell_type": "code",
   "execution_count": 2,
   "id": "fb610c2b-64c0-4fe0-8445-b9c527459c16",
   "metadata": {},
   "outputs": [
    {
     "name": "stderr",
     "output_type": "stream",
     "text": [
      "/var/folders/vt/4l69jtfd3m5blk3vs5plrg_40000gp/T/ipykernel_10797/3858785897.py:7: FutureWarning: The behavior of DataFrame concatenation with empty or all-NA entries is deprecated. In a future version, this will no longer exclude empty or all-NA columns when determining the result dtypes. To retain the old behavior, exclude the relevant entries before the concat operation.\n",
      "  df_normal = pd.concat(dfs)\n"
     ]
    }
   ],
   "source": [
    "dfs = [pd.read_parquet(f\"./DNS-Tunnel-Datasets/normal/normal/{f}\") for f in \n",
    "              os.listdir('./DNS-Tunnel-Datasets/normal/normal/') if f.endswith('.pq')]\n",
    "\n",
    "cols_unwanted = ['payload.ack', 'payload.dataofs', 'payload.flags', 'payload.reserved', 'payload.seq', 'payload.urgptr', 'payload.window']\n",
    "dfs = [df[[c for c in df.columns if c not in cols_unwanted]] for df in dfs]\n",
    "\n",
    "df_normal = pd.concat(dfs)\n",
    "\n",
    "# for f in [f for f in os.listdir('./DNS-Tunnel-Datasets/tunnel/') if f.endswith('.pq')]\n"
   ]
  },
  {
   "cell_type": "code",
   "execution_count": 3,
   "id": "a5fff19f-cdb4-4180-8488-36cb93aa837b",
   "metadata": {},
   "outputs": [
    {
     "data": {
      "text/plain": [
       "qname\n",
       "img1.wsimg.com.                      764\n",
       "www.google.com.                      726\n",
       "performance.radar.cloudflare.com.    630\n",
       "d38psrni17bvxu.cloudfront.net.       574\n",
       "cdn.jsdelivr.net.                    536\n",
       "                                    ... \n",
       "pro-technology.com.                    2\n",
       "outplay-helios.com.                    2\n",
       "pokerdomdream.ru.                      2\n",
       "pokerdom-3947.top.                     2\n",
       "plmlatina.net.                         2\n",
       "Name: count, Length: 974410, dtype: int64"
      ]
     },
     "execution_count": 3,
     "metadata": {},
     "output_type": "execute_result"
    }
   ],
   "source": [
    "# sanity check\n",
    "\n",
    "df_normal['qname'].value_counts()"
   ]
  },
  {
   "cell_type": "code",
   "execution_count": null,
   "id": "8bb6916d-84b0-4ba7-ab42-7a8e2569e312",
   "metadata": {},
   "outputs": [],
   "source": []
  },
  {
   "cell_type": "markdown",
   "id": "d02882a3-8c00-4d0c-98e7-c0ab8516ca00",
   "metadata": {},
   "source": [
    "# load tunneling data"
   ]
  },
  {
   "cell_type": "code",
   "execution_count": 4,
   "id": "cad87807-d0f4-4775-9566-6409d869c6ec",
   "metadata": {},
   "outputs": [],
   "source": [
    "dfs = [pd.read_parquet(f\"./DNS-Tunnel-Datasets/tunnel/{f}\") for f in \n",
    "              os.listdir('./DNS-Tunnel-Datasets/tunnel/') if f.endswith('.pq')]\n",
    "\n",
    "cols_unwanted = ['payload.ack', 'payload.dataofs', 'payload.flags', 'payload.reserved', 'payload.seq', 'payload.urgptr', 'payload.window']\n",
    "dfs = [df[[c for c in df.columns if c not in cols_unwanted]] for df in dfs]\n",
    "\n",
    "df_tunneling = pd.concat(dfs)\n",
    "\n",
    "# for f in [f for f in os.listdir('./DNS-Tunnel-Datasets/tunnel/') if f.endswith('.pq')]\n"
   ]
  },
  {
   "cell_type": "code",
   "execution_count": 5,
   "id": "497af9d5-89d5-455e-8533-f98ab974ea2a",
   "metadata": {},
   "outputs": [
    {
     "data": {
      "text/plain": [
       "0                               vaaaakaqoou.www.ggy666.tk.\n",
       "1                               vaaaakaqoou.www.ggy666.tk.\n",
       "2          lahxxmg4jl15duwvgubes0sidhbeq23q.www.ggy666.tk.\n",
       "3          lahxxmg4jl15duwvgubes0sidhbeq23q.www.ggy666.tk.\n",
       "4                                    yrbdtx.www.ggy666.tk.\n",
       "                               ...                        \n",
       "36692                                r13311.www.ggy666.tk.\n",
       "36693                                r13310.www.ggy666.tk.\n",
       "36694                                r13312.www.ggy666.tk.\n",
       "36695    dIUIAAWBWWJAAAQAGDCFMBKBVAHAKQNICQ64AAFXGWPC76...\n",
       "36696                                r13313.www.ggy666.tk.\n",
       "Name: qname, Length: 375810, dtype: object"
      ]
     },
     "execution_count": 5,
     "metadata": {},
     "output_type": "execute_result"
    }
   ],
   "source": [
    "# quick sanity check\n",
    "df_tunneling['qname']"
   ]
  },
  {
   "cell_type": "markdown",
   "id": "c266ac9e-bff8-484d-b44f-854e06ba7953",
   "metadata": {},
   "source": [
    "# join data, add label column"
   ]
  },
  {
   "cell_type": "code",
   "execution_count": 6,
   "id": "df1b35fa-8daf-441a-a3bc-3d2504ee43b3",
   "metadata": {},
   "outputs": [
    {
     "name": "stderr",
     "output_type": "stream",
     "text": [
      "/var/folders/vt/4l69jtfd3m5blk3vs5plrg_40000gp/T/ipykernel_10797/3589576660.py:4: FutureWarning: The behavior of DataFrame concatenation with empty or all-NA entries is deprecated. In a future version, this will no longer exclude empty or all-NA columns when determining the result dtypes. To retain the old behavior, exclude the relevant entries before the concat operation.\n",
      "  df_all = pd.concat([df_normal, df_tunneling])\n"
     ]
    }
   ],
   "source": [
    "df_normal['label'] = 'normal'\n",
    "df_tunneling['label'] = 'tunneling'\n",
    "\n",
    "df_all = pd.concat([df_normal, df_tunneling])"
   ]
  },
  {
   "cell_type": "code",
   "execution_count": 7,
   "id": "0301de23-741d-41df-941e-04cd02230977",
   "metadata": {},
   "outputs": [
    {
     "data": {
      "text/plain": [
       "label\n",
       "normal       2012494\n",
       "tunneling     375810\n",
       "Name: count, dtype: int64"
      ]
     },
     "execution_count": 7,
     "metadata": {},
     "output_type": "execute_result"
    }
   ],
   "source": [
    "df_all['label'].value_counts()"
   ]
  },
  {
   "cell_type": "markdown",
   "id": "ded1e2a9-34c0-45cc-8864-eb10584ab644",
   "metadata": {},
   "source": [
    "# start EDA"
   ]
  },
  {
   "cell_type": "code",
   "execution_count": 8,
   "id": "e364822f-9963-439e-b12d-95c386a232c3",
   "metadata": {},
   "outputs": [
    {
     "data": {
      "text/html": [
       "<div>\n",
       "<style scoped>\n",
       "    .dataframe tbody tr th:only-of-type {\n",
       "        vertical-align: middle;\n",
       "    }\n",
       "\n",
       "    .dataframe tbody tr th {\n",
       "        vertical-align: top;\n",
       "    }\n",
       "\n",
       "    .dataframe thead th {\n",
       "        text-align: right;\n",
       "    }\n",
       "</style>\n",
       "<table border=\"1\" class=\"dataframe\">\n",
       "  <thead>\n",
       "    <tr style=\"text-align: right;\">\n",
       "      <th></th>\n",
       "      <th>version</th>\n",
       "      <th>ihl</th>\n",
       "      <th>tos</th>\n",
       "      <th>len</th>\n",
       "      <th>id</th>\n",
       "      <th>flags</th>\n",
       "      <th>frag</th>\n",
       "      <th>ttl</th>\n",
       "      <th>proto</th>\n",
       "      <th>chksum</th>\n",
       "      <th>...</th>\n",
       "      <th>unicastresponse</th>\n",
       "      <th>qclass</th>\n",
       "      <th>tc</th>\n",
       "      <th>fl</th>\n",
       "      <th>plen</th>\n",
       "      <th>nh</th>\n",
       "      <th>hlim</th>\n",
       "      <th>payload.payload.ns</th>\n",
       "      <th>label</th>\n",
       "      <th>payload.payload.ar</th>\n",
       "    </tr>\n",
       "  </thead>\n",
       "  <tbody>\n",
       "    <tr>\n",
       "      <th>0</th>\n",
       "      <td>4</td>\n",
       "      <td>5.0</td>\n",
       "      <td>0.0</td>\n",
       "      <td>63.0</td>\n",
       "      <td>31242.0</td>\n",
       "      <td>0.0</td>\n",
       "      <td>0.0</td>\n",
       "      <td>128.0</td>\n",
       "      <td>17.0</td>\n",
       "      <td>46867.0</td>\n",
       "      <td>...</td>\n",
       "      <td>0</td>\n",
       "      <td>1</td>\n",
       "      <td>NaN</td>\n",
       "      <td>NaN</td>\n",
       "      <td>NaN</td>\n",
       "      <td>NaN</td>\n",
       "      <td>NaN</td>\n",
       "      <td>NaN</td>\n",
       "      <td>normal</td>\n",
       "      <td>NaN</td>\n",
       "    </tr>\n",
       "    <tr>\n",
       "      <th>1</th>\n",
       "      <td>4</td>\n",
       "      <td>5.0</td>\n",
       "      <td>0.0</td>\n",
       "      <td>79.0</td>\n",
       "      <td>52057.0</td>\n",
       "      <td>2.0</td>\n",
       "      <td>0.0</td>\n",
       "      <td>64.0</td>\n",
       "      <td>17.0</td>\n",
       "      <td>26036.0</td>\n",
       "      <td>...</td>\n",
       "      <td>0</td>\n",
       "      <td>1</td>\n",
       "      <td>NaN</td>\n",
       "      <td>NaN</td>\n",
       "      <td>NaN</td>\n",
       "      <td>NaN</td>\n",
       "      <td>NaN</td>\n",
       "      <td>NaN</td>\n",
       "      <td>normal</td>\n",
       "      <td>NaN</td>\n",
       "    </tr>\n",
       "    <tr>\n",
       "      <th>2</th>\n",
       "      <td>4</td>\n",
       "      <td>5.0</td>\n",
       "      <td>0.0</td>\n",
       "      <td>55.0</td>\n",
       "      <td>31243.0</td>\n",
       "      <td>0.0</td>\n",
       "      <td>0.0</td>\n",
       "      <td>128.0</td>\n",
       "      <td>17.0</td>\n",
       "      <td>46874.0</td>\n",
       "      <td>...</td>\n",
       "      <td>0</td>\n",
       "      <td>1</td>\n",
       "      <td>NaN</td>\n",
       "      <td>NaN</td>\n",
       "      <td>NaN</td>\n",
       "      <td>NaN</td>\n",
       "      <td>NaN</td>\n",
       "      <td>NaN</td>\n",
       "      <td>normal</td>\n",
       "      <td>NaN</td>\n",
       "    </tr>\n",
       "    <tr>\n",
       "      <th>3</th>\n",
       "      <td>4</td>\n",
       "      <td>5.0</td>\n",
       "      <td>0.0</td>\n",
       "      <td>71.0</td>\n",
       "      <td>52079.0</td>\n",
       "      <td>2.0</td>\n",
       "      <td>0.0</td>\n",
       "      <td>64.0</td>\n",
       "      <td>17.0</td>\n",
       "      <td>26022.0</td>\n",
       "      <td>...</td>\n",
       "      <td>0</td>\n",
       "      <td>1</td>\n",
       "      <td>NaN</td>\n",
       "      <td>NaN</td>\n",
       "      <td>NaN</td>\n",
       "      <td>NaN</td>\n",
       "      <td>NaN</td>\n",
       "      <td>NaN</td>\n",
       "      <td>normal</td>\n",
       "      <td>NaN</td>\n",
       "    </tr>\n",
       "    <tr>\n",
       "      <th>4</th>\n",
       "      <td>4</td>\n",
       "      <td>5.0</td>\n",
       "      <td>0.0</td>\n",
       "      <td>63.0</td>\n",
       "      <td>31244.0</td>\n",
       "      <td>0.0</td>\n",
       "      <td>0.0</td>\n",
       "      <td>128.0</td>\n",
       "      <td>17.0</td>\n",
       "      <td>46865.0</td>\n",
       "      <td>...</td>\n",
       "      <td>0</td>\n",
       "      <td>1</td>\n",
       "      <td>NaN</td>\n",
       "      <td>NaN</td>\n",
       "      <td>NaN</td>\n",
       "      <td>NaN</td>\n",
       "      <td>NaN</td>\n",
       "      <td>NaN</td>\n",
       "      <td>normal</td>\n",
       "      <td>NaN</td>\n",
       "    </tr>\n",
       "  </tbody>\n",
       "</table>\n",
       "<p>5 rows × 44 columns</p>\n",
       "</div>"
      ],
      "text/plain": [
       "   version  ihl  tos   len       id  flags  frag    ttl  proto   chksum  ...  \\\n",
       "0        4  5.0  0.0  63.0  31242.0    0.0   0.0  128.0   17.0  46867.0  ...   \n",
       "1        4  5.0  0.0  79.0  52057.0    2.0   0.0   64.0   17.0  26036.0  ...   \n",
       "2        4  5.0  0.0  55.0  31243.0    0.0   0.0  128.0   17.0  46874.0  ...   \n",
       "3        4  5.0  0.0  71.0  52079.0    2.0   0.0   64.0   17.0  26022.0  ...   \n",
       "4        4  5.0  0.0  63.0  31244.0    0.0   0.0  128.0   17.0  46865.0  ...   \n",
       "\n",
       "  unicastresponse qclass  tc  fl  plen  nh  hlim  payload.payload.ns   label  \\\n",
       "0               0      1 NaN NaN   NaN NaN   NaN                 NaN  normal   \n",
       "1               0      1 NaN NaN   NaN NaN   NaN                 NaN  normal   \n",
       "2               0      1 NaN NaN   NaN NaN   NaN                 NaN  normal   \n",
       "3               0      1 NaN NaN   NaN NaN   NaN                 NaN  normal   \n",
       "4               0      1 NaN NaN   NaN NaN   NaN                 NaN  normal   \n",
       "\n",
       "   payload.payload.ar  \n",
       "0                 NaN  \n",
       "1                 NaN  \n",
       "2                 NaN  \n",
       "3                 NaN  \n",
       "4                 NaN  \n",
       "\n",
       "[5 rows x 44 columns]"
      ]
     },
     "execution_count": 8,
     "metadata": {},
     "output_type": "execute_result"
    }
   ],
   "source": [
    "df_all.head()"
   ]
  },
  {
   "cell_type": "code",
   "execution_count": 9,
   "id": "fef95774-237e-4b04-86ab-7f166e76cf5c",
   "metadata": {},
   "outputs": [
    {
     "name": "stdout",
     "output_type": "stream",
     "text": [
      "payload.payload.length\n",
      "tc\n",
      "fl\n",
      "plen\n",
      "nh\n",
      "hlim\n",
      "payload.payload.ns\n"
     ]
    }
   ],
   "source": [
    "# see if any columns are null\n",
    "\n",
    "for c in df_all.columns:\n",
    "    if df_all[c].isnull().sum() / df_all.shape[0] > 0.99:\n",
    "        print(c)"
   ]
  },
  {
   "cell_type": "code",
   "execution_count": null,
   "id": "891f4773-b3db-4d94-ae7c-0b18cf3428cf",
   "metadata": {},
   "outputs": [],
   "source": []
  },
  {
   "cell_type": "code",
   "execution_count": null,
   "id": "bd3a5a77-5557-4c37-b88f-f19f56a82537",
   "metadata": {},
   "outputs": [],
   "source": []
  },
  {
   "cell_type": "code",
   "execution_count": 10,
   "id": "36c48ce0-f9e8-4f09-9958-7da589c68abf",
   "metadata": {},
   "outputs": [
    {
     "data": {
      "application/vnd.jupyter.widget-view+json": {
       "model_id": "57c8c8e95a2d415e9b63822c4c5b2551",
       "version_major": 2,
       "version_minor": 0
      },
      "text/plain": [
       "Box(children=(HTML(value='\\n<div id=\"ifr-pyg-0006315256d051c3ZHrhnOwSlTvWgCIE\" style=\"height: auto\">\\n    <hea…"
      ]
     },
     "metadata": {},
     "output_type": "display_data"
    },
    {
     "data": {
      "text/html": [
       "<script>\n",
       "    window.addEventListener(\"message\", function(event) {\n",
       "        const backgroundMap = {\n",
       "            \"dark\": \"hsl(240 10% 3.9%)\",\n",
       "            \"light\": \"hsl(0 0 100%)\",\n",
       "        };\n",
       "        const colorMap = {\n",
       "            \"dark\": \"hsl(0 0% 98%)\",\n",
       "            \"light\": \"hsl(240 10% 3.9%)\",\n",
       "        };\n",
       "        if (event.data.action === \"changeAppearance\" && event.data.gid === \"0006315256d051c3ZHrhnOwSlTvWgCIE\") {\n",
       "            var iframe = document.getElementById(\"gwalker-0006315256d051c3ZHrhnOwSlTvWgCIE\");\n",
       "            iframe.style.background  = backgroundMap[event.data.appearance];\n",
       "            iframe.style.color = colorMap[event.data.appearance];\n",
       "        }\n",
       "    });\n",
       "</script>"
      ],
      "text/plain": [
       "<IPython.core.display.HTML object>"
      ]
     },
     "metadata": {},
     "output_type": "display_data"
    },
    {
     "data": {
      "text/html": [],
      "text/plain": [
       "<IPython.core.display.HTML object>"
      ]
     },
     "metadata": {},
     "output_type": "display_data"
    }
   ],
   "source": [
    "import pygwalker as pyg\n",
    "\n",
    "walker = pyg.walk(df_all)"
   ]
  },
  {
   "cell_type": "code",
   "execution_count": null,
   "id": "f88e6304-0a0d-470e-86b4-f2ec47f3cf99",
   "metadata": {},
   "outputs": [],
   "source": []
  },
  {
   "cell_type": "code",
   "execution_count": null,
   "id": "fac8fcfc-5351-42de-b320-8e81ade811fa",
   "metadata": {},
   "outputs": [],
   "source": []
  },
  {
   "cell_type": "code",
   "execution_count": null,
   "id": "271530d5-2c0f-409d-85fd-b8e3db9fd74a",
   "metadata": {},
   "outputs": [],
   "source": []
  }
 ],
 "metadata": {
  "kernelspec": {
   "display_name": "venv_day1",
   "language": "python",
   "name": "venv_day1"
  },
  "language_info": {
   "codemirror_mode": {
    "name": "ipython",
    "version": 3
   },
   "file_extension": ".py",
   "mimetype": "text/x-python",
   "name": "python",
   "nbconvert_exporter": "python",
   "pygments_lexer": "ipython3",
   "version": "3.10.14"
  }
 },
 "nbformat": 4,
 "nbformat_minor": 5
}
